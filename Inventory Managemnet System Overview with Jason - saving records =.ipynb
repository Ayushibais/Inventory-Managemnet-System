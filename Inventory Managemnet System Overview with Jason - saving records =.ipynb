{
 "cells": [
  {
   "cell_type": "markdown",
   "id": "6c273504-a7ba-4f05-bd2e-45bc7f0ffeee",
   "metadata": {},
   "source": [
    "# 1st Vedio"
   ]
  },
  {
   "cell_type": "markdown",
   "id": "84eadcde-ed13-484a-a707-292954a77987",
   "metadata": {},
   "source": [
    "# 2nd Vedio"
   ]
  },
  {
   "cell_type": "code",
   "execution_count": 19,
   "id": "6d6fb56b-603f-4f59-a41d-50b8cfe94b2e",
   "metadata": {},
   "outputs": [
    {
     "name": "stdout",
     "output_type": "stream",
     "text": [
      "----------MENU-------------\n",
      "\n",
      "1001 : Pen | 10 | 80\n",
      "1002 : Eraser | 5 | 116\n",
      "1003 : Scale | 3 | 388\n",
      "1004 : Sharpner | 4 | 277\n",
      "1005 : Color | 20 | 305\n",
      "---------------------------\n",
      "\n"
     ]
    },
    {
     "name": "stdin",
     "output_type": "stream",
     "text": [
      "Enter your name : ayushi\n",
      "Enter Mail t ID : auhihsi\n",
      "Enter Phone number : bjbjn\n",
      "Enter Product ID : 1003\n",
      "Enter Quantity : 12\n"
     ]
    },
    {
     "name": "stdout",
     "output_type": "stream",
     "text": [
      "--------------------------------\n",
      "-----------Bill-----------------\n",
      "\n",
      "Name        : Scale\n",
      "Price(rs)   : 3 Rs\n",
      "Quantity    : 12\n",
      "-------------------------------\n",
      "Billing Amount : 36 Rs\n",
      "-------------------------------\n",
      "--------------------------------\n",
      "Thanks for your order,Inventory Updated!\n",
      "--------------------------------\n"
     ]
    }
   ],
   "source": [
    "#Importing the libraries\n",
    "import json\n",
    "import time\n",
    "\n",
    "#Initialising Variables\n",
    "sale=''\n",
    " \n",
    "#Loading the Inventory Records from Json to strings\n",
    "fd=open('Records.json','r')\n",
    "js=fd.read()\n",
    "fd.close()\n",
    "\n",
    "#Converting String Records to JSON / Dictionaries\n",
    "record=json.loads(js)\n",
    "\n",
    "#Displaying Menu\n",
    "print(\"----------MENU-------------\\n\")\n",
    "for key in record.keys():\n",
    "    print(key,':',record[key]['Name'],'|',record[key]['Price'],'|',record[key]['Qn'])\n",
    "print(\"---------------------------\\n\")\n",
    "\n",
    "#Taking User Input about the purchase and user Details\n",
    "ui_name =str(input(\"Enter your name :\"))\n",
    "ui_mail =str(input(\"Enter Mail t ID :\"))\n",
    "ui_ph   =str(input(\"Enter Phone number :\"))\n",
    "ui_pr   =str(input(\"Enter Product ID :\"))\n",
    "ui_qn   =int(input(\"Enter Quantity :\"))\n",
    "\n",
    "#If we're having equal or more quality then user wants\n",
    "if(record[ui_pr]['Qn']>=ui_qn):\n",
    "    \n",
    "   #Displaying Purchase Detail\n",
    "   print(\"--------------------------------\")\n",
    "   print(\"-----------Bill-----------------\\n\")\n",
    "   print('Name        :',record[ui_pr]['Name'])\n",
    "   print('Price(rs)   :',record[ui_pr]['Price'],'Rs')\n",
    "   print('Quantity    :',ui_qn)\n",
    "   print(\"-------------------------------\")\n",
    "   print('Billing Amount :',record[ui_pr]['Price']*ui_qn,\"Rs\")\n",
    "   print(\"-------------------------------\")\n",
    "\n",
    "    #Updating Records Dictionary\n",
    "   record[ui_pr]['Qn']=record[ui_pr]['Qn']-ui_qn\n",
    "\n",
    "   #Generating the sales strctures in CSV\n",
    "   sale=ui_name+\",\"+ui_mail+\",\"+ui_ph+\",\"+ui_pr+\",\"+record[ui_pr]['Name']+\",\"+str(ui_qn)+\",\"+str(record[ui_pr]['Price'])+\",\"+str(ui_qn*record[ui_pr]['Price'])+\",\"+time.ctime()+'\\n'\n",
    "\n",
    "#If we're not having enough quality then user wants\n",
    "else:\n",
    "\n",
    "   #Displaying Info about the quantity\n",
    "   print(\"Sorry We'are not having enough Quantity in our Inventory.\")\n",
    "   print(\"We'are only having \",record[ui_pr]['Qn'],'Quantity.')\n",
    "   print(\"----------------------------------\")\n",
    "\n",
    "   #if user wants to purchase whole Quantity for that product\n",
    "   ch=str(input(\"Print Y/y to purchase :\"))\n",
    "\n",
    "   if(ch==\"Y\" or ch==\"y\"):\n",
    "       \n",
    "      #Displaying Purchase Detail\n",
    "      print(\"---------------------------- --\")\n",
    "      print(\"-----------Bill----------------\")\n",
    "      print('Name        :',record[ui_pr]['Name'])\n",
    "      print('Price(rs)   :',record[ui_pr]['Price'],'Rs')\n",
    "      print('Quantity    :',ui_qn)\n",
    "      print(\"-------------------------------\")\n",
    "      print('Billing Amount :',record[ui_pr]['Price']*record[ui_pr]['Qn'],\"Rs\")\n",
    "      print(\"-------------------------------\")\n",
    "\n",
    "       #Generating Sales Structure in CSV\n",
    "      sale=ui_name+\",\"+ui_mail+\",\"+ui_ph+\",\"+ui_pr+\",\"+record[ui_pr]['Name']+\",\"+str(record[ui_pr]['Qn'])+\",\"+str(record[ui_pr]['Price'])+\",\"+str(record[ui_pr]['Qn']*record[ui_pr]['Price'])+\",\"+time.ctime()+'\\n'\n",
    "\n",
    "       #UPdating Records Dictionary\n",
    "      record[ui_pr]['Qn']=0 \n",
    "\n",
    "    #if user pressed anything other than Y/y\n",
    "   else:\n",
    "      print(\"Thanks!!\")\n",
    "\n",
    "#Converting Dictionary to String\n",
    "js=json.dumps(record) #converted to string\n",
    "\n",
    "#Saving Records in JSON file\n",
    "fd=open(\"Records.json\",'w')\n",
    "fd.write(js)\n",
    "fd.close()\n",
    "\n",
    "#Saving records in Sales file\n",
    "fd=open('Saales.txt','a')\n",
    "fd.write(sale)\n",
    "fd.close()\n",
    "\n",
    "print(\"--------------------------------\")\n",
    "print(\"Thanks for your order,Inventory Updated!\")\n",
    "print(\"--------------------------------\")"
   ]
  },
  {
   "cell_type": "code",
   "execution_count": null,
   "id": "65e54fae-1d5a-4d93-a328-b4d7de332cf4",
   "metadata": {},
   "outputs": [],
   "source": []
  }
 ],
 "metadata": {
  "kernelspec": {
   "display_name": "Python 3 (ipykernel)",
   "language": "python",
   "name": "python3"
  },
  "language_info": {
   "codemirror_mode": {
    "name": "ipython",
    "version": 3
   },
   "file_extension": ".py",
   "mimetype": "text/x-python",
   "name": "python",
   "nbconvert_exporter": "python",
   "pygments_lexer": "ipython3",
   "version": "3.11.5"
  }
 },
 "nbformat": 4,
 "nbformat_minor": 5
}
